{
 "cells": [
  {
   "cell_type": "markdown",
   "metadata": {},
   "source": [
    "<div class=\"alert alert-block alert-info\">\n",
    "<font size=\"5\"><b><center> Section 5</font></center>\n",
    "<br>\n",
    "<font size=\"5\"><b><center>Recurrent Neural Network in PyTorch with an Introduction to Natural Language Processing</font></center>\n",
    "</div>"
   ]
  },
  {
   "cell_type": "markdown",
   "metadata": {},
   "source": [
    "# Simple Text Processing"
   ]
  },
  {
   "cell_type": "markdown",
   "metadata": {},
   "source": [
    "## Typically Data Preprocessing Steps before Modeling Training for NLP Applications\n",
    "\n",
    "* Read the data from disk\n",
    "* Tokenize the text\n",
    "* Create a mapping from word to a unique integer\n",
    "* Convert the text into lists of integers\n",
    "* Load the data in whatever format your deep learning framework requires\n",
    "* Pad the text so that all the sequences are the same length, so you can process them in batch"
   ]
  },
  {
   "cell_type": "code",
   "execution_count": 1,
   "metadata": {
    "ExecuteTime": {
     "end_time": "2019-04-08T01:41:07.196060Z",
     "start_time": "2019-04-08T01:41:07.192415Z"
    }
   },
   "outputs": [],
   "source": [
    "thor_review = \"the action scenes were top notch in this movie. Thor has never been this epic in the MCU. He does some pretty epic sh*t in this movie and he is definitely not under-powered anymore. Thor in unleashed in this, I love that.\""
   ]
  },
  {
   "cell_type": "code",
   "execution_count": 2,
   "metadata": {
    "ExecuteTime": {
     "end_time": "2019-04-08T01:41:17.574969Z",
     "start_time": "2019-04-08T01:41:17.571345Z"
    }
   },
   "outputs": [],
   "source": [
    "word_embedding = \"word embeddings are a representation of the *semantics* of a word, efficiently encoding semantic information that might be relevant to the task at hand\""
   ]
  },
  {
   "cell_type": "code",
   "execution_count": 4,
   "metadata": {
    "ExecuteTime": {
     "end_time": "2019-04-08T01:41:30.424971Z",
     "start_time": "2019-04-08T01:41:30.420495Z"
    }
   },
   "outputs": [
    {
     "name": "stdout",
     "output_type": "stream",
     "text": [
      "['w', 'o', 'r', 'd', ' ', 'e', 'm', 'b', 'e', 'd', 'd', 'i', 'n', 'g', 's', ' ', 'a', 'r', 'e', ' ', 'a', ' ', 'r', 'e', 'p', 'r', 'e', 's', 'e', 'n', 't', 'a', 't', 'i', 'o', 'n', ' ', 'o', 'f', ' ', 't', 'h', 'e', ' ', '*', 's', 'e', 'm', 'a', 'n', 't', 'i', 'c', 's', '*', ' ', 'o', 'f', ' ', 'a', ' ', 'w', 'o', 'r', 'd', ',', ' ', 'e', 'f', 'f', 'i', 'c', 'i', 'e', 'n', 't', 'l', 'y', ' ', 'e', 'n', 'c', 'o', 'd', 'i', 'n', 'g', ' ', 's', 'e', 'm', 'a', 'n', 't', 'i', 'c', ' ', 'i', 'n', 'f', 'o', 'r', 'm', 'a', 't', 'i', 'o', 'n', ' ', 't', 'h', 'a', 't', ' ', 'm', 'i', 'g', 'h', 't', ' ', 'b', 'e', ' ', 'r', 'e', 'l', 'e', 'v', 'a', 'n', 't', ' ', 't', 'o', ' ', 't', 'h', 'e', ' ', 't', 'a', 's', 'k', ' ', 'a', 't', ' ', 'h', 'a', 'n', 'd']\n"
     ]
    }
   ],
   "source": [
    "print(list(word_embedding))"
   ]
  },
  {
   "cell_type": "markdown",
   "metadata": {},
   "source": [
    "## Converting text into words"
   ]
  },
  {
   "cell_type": "code",
   "execution_count": 5,
   "metadata": {
    "ExecuteTime": {
     "end_time": "2019-04-08T01:41:35.093370Z",
     "start_time": "2019-04-08T01:41:35.088945Z"
    }
   },
   "outputs": [
    {
     "name": "stdout",
     "output_type": "stream",
     "text": [
      "['word', 'embeddings', 'are', 'a', 'representation', 'of', 'the', '*semantics*', 'of', 'a', 'word,', 'efficiently', 'encoding', 'semantic', 'information', 'that', 'might', 'be', 'relevant', 'to', 'the', 'task', 'at', 'hand']\n"
     ]
    }
   ],
   "source": [
    "print(word_embedding.split())"
   ]
  },
  {
   "cell_type": "markdown",
   "metadata": {},
   "source": [
    "## N-grams and NLTK"
   ]
  },
  {
   "cell_type": "code",
   "execution_count": 6,
   "metadata": {
    "ExecuteTime": {
     "end_time": "2019-04-08T01:41:40.910825Z",
     "start_time": "2019-04-08T01:41:38.820328Z"
    }
   },
   "outputs": [],
   "source": [
    "from nltk import ngrams"
   ]
  },
  {
   "cell_type": "code",
   "execution_count": 7,
   "metadata": {
    "ExecuteTime": {
     "end_time": "2019-04-08T01:41:43.958507Z",
     "start_time": "2019-04-08T01:41:43.954091Z"
    }
   },
   "outputs": [
    {
     "name": "stdout",
     "output_type": "stream",
     "text": [
      "[('word', 'embeddings'), ('embeddings', 'are'), ('are', 'a'), ('a', 'representation'), ('representation', 'of'), ('of', 'the'), ('the', '*semantics*'), ('*semantics*', 'of'), ('of', 'a'), ('a', 'word,'), ('word,', 'efficiently'), ('efficiently', 'encoding'), ('encoding', 'semantic'), ('semantic', 'information'), ('information', 'that'), ('that', 'might'), ('might', 'be'), ('be', 'relevant'), ('relevant', 'to'), ('to', 'the'), ('the', 'task'), ('task', 'at'), ('at', 'hand')]\n"
     ]
    }
   ],
   "source": [
    "print(list(ngrams(word_embedding.split(),2)))"
   ]
  },
  {
   "cell_type": "markdown",
   "metadata": {},
   "source": [
    "- `n-grams` is used in many supervised machine learning models, such as Naive Bayes, to improve feature space. \n",
    "\n",
    "- `n-grams` are also used for spelling correction and text-summarization tasks.\n",
    "\n",
    "- Limitation of `n-grams` representation: it loses the sequential nature of text"
   ]
  },
  {
   "cell_type": "markdown",
   "metadata": {},
   "source": [
    "**Do one-hot encoding using canned functions**"
   ]
  },
  {
   "cell_type": "markdown",
   "metadata": {},
   "source": [
    "A major limitation of the one-hot representation is that the data is too sparse, because the size of the vector quickly grows as the number of unique words in the vocabulary increases. As such, this representation is not typically used in deep learning."
   ]
  },
  {
   "cell_type": "markdown",
   "metadata": {},
   "source": [
    "## Word Embedding"
   ]
  },
  {
   "cell_type": "markdown",
   "metadata": {},
   "source": [
    "Word embedding is a very popular way of representing text data in problems that are solved by deep learning algorithms\n",
    "\n",
    "Word embedding provides a dense representation of a word filled with floating numbers. \n",
    "\n",
    "It drastically reduces the dimension of the dictionary\n",
    "\n"
   ]
  },
  {
   "cell_type": "markdown",
   "metadata": {
    "heading_collapsed": true
   },
   "source": [
    "###  `Torchtext` and Training word embedding by building a sentiment classifier"
   ]
  },
  {
   "cell_type": "markdown",
   "metadata": {
    "hidden": true
   },
   "source": [
    "Torchtext takes a declarative approach to loading its data: \n",
    "\n",
    "  * you tell torchtext how you want the data to look like, and torchtext handles it for you\n",
    "  \n",
    "  * Declaring a Field: The Field specifies how you want a certain field to be processed\n",
    "  \n",
    "The `Field` class is a fundamental component of torchtext and is what makes preprocessing very easy\n",
    "\n"
   ]
  },
  {
   "cell_type": "markdown",
   "metadata": {},
   "source": [
    "### Load `torchtext.datasets`"
   ]
  },
  {
   "cell_type": "code",
   "execution_count": 13,
   "metadata": {
    "ExecuteTime": {
     "end_time": "2019-04-08T01:44:22.292577Z",
     "start_time": "2019-04-08T01:44:21.554450Z"
    }
   },
   "outputs": [],
   "source": [
    "# pip install torchtext\n",
    "from torchtext import data, datasets\n",
    "from torchtext.vocab import GloVe,FastText,CharNGram\n",
    "\n",
    "# import torch.nn as nn\n",
    "# import torch.optim as optim\n",
    "# import torch.nn.functional as F\n",
    "# from torch.autograd import Variable\n",
    "\n",
    "# import torch"
   ]
  },
  {
   "cell_type": "markdown",
   "metadata": {},
   "source": [
    "* Define two `Field` objects for the actual texts and the labels.\n",
    "\n",
    "* For the actual texts, `torchtext` will lowercase, tokenize, and trim the text to a maximum length of 20. We could change the maximum length of the text to other numbers."
   ]
  },
  {
   "cell_type": "code",
   "execution_count": 14,
   "metadata": {
    "ExecuteTime": {
     "end_time": "2019-04-08T01:45:07.513810Z",
     "start_time": "2019-04-08T01:45:07.509797Z"
    }
   },
   "outputs": [],
   "source": [
    "TEXT = data.Field(lower=True, batch_first=True, fix_length=20)\n",
    "LABEL = data.Field(sequential=False)"
   ]
  },
  {
   "cell_type": "markdown",
   "metadata": {},
   "source": [
    "- **Use `torch.datasets` to download the `IMDB` dataset and split it into train and test datasets**\n",
    "\n",
    "- The following command abstracts away all the complexity involved in downloading, tokenizing, and splitting the database into train and test datasets\n",
    "\n",
    "- `torch.datasets` come with many datasets, such as `IMDB` for sentiment analysis, `TREC` for question classification, `WikiText-2` for language modeling, etc.\n",
    "\n",
    "- For tokenization, `SpaCy` can also be specified"
   ]
  },
  {
   "cell_type": "code",
   "execution_count": 16,
   "metadata": {
    "ExecuteTime": {
     "end_time": "2019-04-08T01:45:48.952345Z",
     "start_time": "2019-04-08T01:45:17.728914Z"
    }
   },
   "outputs": [],
   "source": [
    "train, test = datasets.IMDB.splits(TEXT, LABEL)"
   ]
  },
  {
   "cell_type": "markdown",
   "metadata": {},
   "source": [
    "`train.fields` contains a dictionary where `TEXT` is the key and the `value` LABEL"
   ]
  },
  {
   "cell_type": "code",
   "execution_count": 20,
   "metadata": {
    "ExecuteTime": {
     "end_time": "2019-04-08T01:46:37.113359Z",
     "start_time": "2019-04-08T01:46:37.108229Z"
    }
   },
   "outputs": [
    {
     "data": {
      "text/plain": [
       "dict"
      ]
     },
     "execution_count": 20,
     "metadata": {},
     "output_type": "execute_result"
    }
   ],
   "source": [
    "type(train.fields)"
   ]
  },
  {
   "cell_type": "code",
   "execution_count": 21,
   "metadata": {
    "ExecuteTime": {
     "end_time": "2019-04-08T01:46:45.259970Z",
     "start_time": "2019-04-08T01:46:45.254958Z"
    }
   },
   "outputs": [
    {
     "name": "stdout",
     "output_type": "stream",
     "text": [
      "train.fields {'text': <torchtext.data.field.Field object at 0x1a1d6ed400>, 'label': <torchtext.data.field.Field object at 0x1a1d6ed470>}\n"
     ]
    }
   ],
   "source": [
    "print('train.fields', train.fields)"
   ]
  },
  {
   "cell_type": "code",
   "execution_count": 41,
   "metadata": {
    "ExecuteTime": {
     "end_time": "2019-04-08T01:53:22.319761Z",
     "start_time": "2019-04-08T01:53:22.314820Z"
    }
   },
   "outputs": [
    {
     "data": {
      "text/plain": [
       "dict_keys(['text', 'label'])"
      ]
     },
     "execution_count": 41,
     "metadata": {},
     "output_type": "execute_result"
    }
   ],
   "source": [
    "train.fields.keys()"
   ]
  },
  {
   "cell_type": "code",
   "execution_count": 29,
   "metadata": {
    "ExecuteTime": {
     "end_time": "2019-04-08T01:49:29.534042Z",
     "start_time": "2019-04-08T01:49:29.527910Z"
    }
   },
   "outputs": [
    {
     "data": {
      "text/plain": [
       "2"
      ]
     },
     "execution_count": 29,
     "metadata": {},
     "output_type": "execute_result"
    }
   ],
   "source": [
    "len(train.fields)"
   ]
  },
  {
   "cell_type": "code",
   "execution_count": 44,
   "metadata": {
    "ExecuteTime": {
     "end_time": "2019-04-08T01:54:40.381736Z",
     "start_time": "2019-04-08T01:54:40.376502Z"
    }
   },
   "outputs": [
    {
     "data": {
      "text/plain": [
       "dict_values([<torchtext.data.field.Field object at 0x1a1d6ed400>, <torchtext.data.field.Field object at 0x1a1d6ed470>])"
      ]
     },
     "execution_count": 44,
     "metadata": {},
     "output_type": "execute_result"
    }
   ],
   "source": [
    "train.fields.values()"
   ]
  },
  {
   "cell_type": "code",
   "execution_count": 47,
   "metadata": {
    "ExecuteTime": {
     "end_time": "2019-04-08T01:55:02.670202Z",
     "start_time": "2019-04-08T01:55:02.665242Z"
    }
   },
   "outputs": [
    {
     "data": {
      "text/plain": [
       "dict_items([('text', <torchtext.data.field.Field object at 0x1a1d6ed400>), ('label', <torchtext.data.field.Field object at 0x1a1d6ed470>)])"
      ]
     },
     "execution_count": 47,
     "metadata": {},
     "output_type": "execute_result"
    }
   ],
   "source": [
    "train.fields.items()"
   ]
  },
  {
   "cell_type": "code",
   "execution_count": 30,
   "metadata": {
    "ExecuteTime": {
     "end_time": "2019-04-08T01:49:35.781980Z",
     "start_time": "2019-04-08T01:49:35.776125Z"
    }
   },
   "outputs": [
    {
     "data": {
      "text/plain": [
       "torchtext.datasets.imdb.IMDB"
      ]
     },
     "execution_count": 30,
     "metadata": {},
     "output_type": "execute_result"
    }
   ],
   "source": [
    "type(train)"
   ]
  },
  {
   "cell_type": "code",
   "execution_count": 35,
   "metadata": {
    "ExecuteTime": {
     "end_time": "2019-04-08T01:50:03.710347Z",
     "start_time": "2019-04-08T01:50:03.705389Z"
    }
   },
   "outputs": [
    {
     "data": {
      "text/plain": [
       "25000"
      ]
     },
     "execution_count": 35,
     "metadata": {},
     "output_type": "execute_result"
    }
   ],
   "source": [
    "len(train)"
   ]
  },
  {
   "cell_type": "code",
   "execution_count": 37,
   "metadata": {
    "ExecuteTime": {
     "end_time": "2019-04-08T01:50:13.164297Z",
     "start_time": "2019-04-08T01:50:13.158724Z"
    }
   },
   "outputs": [
    {
     "data": {
      "text/plain": [
       "5000"
      ]
     },
     "execution_count": 37,
     "metadata": {},
     "output_type": "execute_result"
    }
   ],
   "source": [
    "len(train[:5000])"
   ]
  },
  {
   "cell_type": "code",
   "execution_count": 38,
   "metadata": {
    "ExecuteTime": {
     "end_time": "2019-04-08T01:50:17.090974Z",
     "start_time": "2019-04-08T01:50:17.085613Z"
    }
   },
   "outputs": [
    {
     "data": {
      "text/plain": [
       "52"
      ]
     },
     "execution_count": 38,
     "metadata": {},
     "output_type": "execute_result"
    }
   ],
   "source": [
    "len(train[0].text)"
   ]
  },
  {
   "cell_type": "code",
   "execution_count": null,
   "metadata": {
    "ExecuteTime": {
     "end_time": "2019-04-07T22:20:12.486075Z",
     "start_time": "2019-04-07T22:20:12.478052Z"
    }
   },
   "outputs": [],
   "source": [
    "print(vars(train[0]))"
   ]
  },
  {
   "cell_type": "markdown",
   "metadata": {},
   "source": [
    "### Buidling a vocabulary"
   ]
  },
  {
   "cell_type": "markdown",
   "metadata": {},
   "source": [
    "The `torchtext` facilitate the creation of a dictionary from a corpus of text. Once a dataset is loaded, we can call `build_vocab` and pass the necessary arguments that will handle building the vocabulary for the data. \n",
    "\n",
    "For instance, in the code below, we can initialize vectors with `pretrained embeddings of dimensions 300`"
   ]
  },
  {
   "cell_type": "code",
   "execution_count": null,
   "metadata": {
    "ExecuteTime": {
     "end_time": "2019-04-07T22:32:40.726530Z",
     "start_time": "2019-04-07T22:27:40.673823Z"
    }
   },
   "outputs": [],
   "source": [
    "TEXT.build_vocab(train, vectors=GloVe(name='6B', dim=300), max_size=10000,min_freq=10)\n",
    "LABEL.build_vocab(train)"
   ]
  },
  {
   "cell_type": "markdown",
   "metadata": {},
   "source": [
    "Once the vocabulary is built, we can obtain different values such as \n",
    "    * frequency\n",
    "    * word index\n",
    "    * vector representation for each word"
   ]
  },
  {
   "cell_type": "code",
   "execution_count": null,
   "metadata": {
    "ExecuteTime": {
     "end_time": "2019-04-07T22:36:52.538796Z",
     "start_time": "2019-04-07T22:36:52.535410Z"
    }
   },
   "outputs": [],
   "source": [
    "#print(TEXT.vocab.freqs)"
   ]
  },
  {
   "cell_type": "code",
   "execution_count": null,
   "metadata": {
    "ExecuteTime": {
     "end_time": "2019-03-13T06:36:50.263776Z",
     "start_time": "2019-03-13T06:36:50.093527Z"
    }
   },
   "outputs": [],
   "source": [
    "print(TEXT.vocab.vectors)"
   ]
  },
  {
   "cell_type": "code",
   "execution_count": null,
   "metadata": {
    "ExecuteTime": {
     "end_time": "2019-04-07T22:36:54.809641Z",
     "start_time": "2019-04-07T22:36:54.802058Z"
    }
   },
   "outputs": [],
   "source": [
    "TEXT.vocab.vectors.shape"
   ]
  },
  {
   "cell_type": "code",
   "execution_count": null,
   "metadata": {
    "ExecuteTime": {
     "end_time": "2019-04-07T22:37:18.641332Z",
     "start_time": "2019-04-07T22:37:18.633941Z"
    }
   },
   "outputs": [],
   "source": [
    "TEXT.vocab.vectors[3].shape"
   ]
  },
  {
   "cell_type": "code",
   "execution_count": null,
   "metadata": {
    "ExecuteTime": {
     "end_time": "2019-04-07T22:37:13.760754Z",
     "start_time": "2019-04-07T22:37:13.745496Z"
    }
   },
   "outputs": [],
   "source": [
    "TEXT.vocab.vectors[234]"
   ]
  },
  {
   "cell_type": "code",
   "execution_count": null,
   "metadata": {
    "ExecuteTime": {
     "end_time": "2019-04-07T22:37:37.330157Z",
     "start_time": "2019-04-07T22:37:37.315011Z"
    }
   },
   "outputs": [],
   "source": [
    "print(TEXT.vocab.stoi)"
   ]
  },
  {
   "cell_type": "markdown",
   "metadata": {},
   "source": [
    "### Batching"
   ]
  },
  {
   "cell_type": "markdown",
   "metadata": {},
   "source": [
    "`Torchtext` provides `BucketIterator`, which helps in batching all the text and replacing the words with the index number of the words.\n",
    "\n",
    "* The `BucketIterator` instance comes with a lot of useful parameters like `batch_size`, `device` (GPU or CPU), and `shuffle`."
   ]
  },
  {
   "cell_type": "code",
   "execution_count": null,
   "metadata": {
    "ExecuteTime": {
     "end_time": "2019-04-07T22:37:54.677711Z",
     "start_time": "2019-04-07T22:37:54.670910Z"
    }
   },
   "outputs": [],
   "source": [
    "train_iter, test_iter = data.BucketIterator.splits((train, test), batch_size=128, device=-1,shuffle=True)"
   ]
  },
  {
   "cell_type": "markdown",
   "metadata": {},
   "source": [
    "**Create a batch**"
   ]
  },
  {
   "cell_type": "code",
   "execution_count": null,
   "metadata": {
    "ExecuteTime": {
     "end_time": "2019-04-07T22:38:08.413548Z",
     "start_time": "2019-04-07T22:38:08.306003Z"
    }
   },
   "outputs": [],
   "source": [
    "batch = next(iter(train_iter))\n",
    "print(batch.text.shape)\n",
    "print(batch.label.shape)\n",
    "\n",
    "# batch_size x fix_len\n",
    "batch.text"
   ]
  },
  {
   "cell_type": "code",
   "execution_count": null,
   "metadata": {
    "ExecuteTime": {
     "end_time": "2019-04-07T22:38:12.561674Z",
     "start_time": "2019-04-07T22:38:12.555916Z"
    }
   },
   "outputs": [],
   "source": [
    "batch.label"
   ]
  },
  {
   "cell_type": "markdown",
   "metadata": {},
   "source": [
    "### Create a network with Word Embedding"
   ]
  },
  {
   "cell_type": "markdown",
   "metadata": {},
   "source": [
    "# Use LSTM for Sentiment Classification"
   ]
  },
  {
   "cell_type": "markdown",
   "metadata": {},
   "source": [
    "1. Preparing the data\n",
    "2. Creating the batches \n",
    "3. Creating the network \n",
    "4. Training the model"
   ]
  },
  {
   "cell_type": "code",
   "execution_count": 49,
   "metadata": {
    "ExecuteTime": {
     "end_time": "2019-04-08T01:57:54.307286Z",
     "start_time": "2019-04-08T01:57:19.238728Z"
    }
   },
   "outputs": [],
   "source": [
    "TEXT = data.Field(lower=True,fix_length=20,batch_first=False)\n",
    "LABEL = data.Field(sequential=False,)\n",
    "\n",
    "train, test = datasets.imdb.IMDB.splits(TEXT, LABEL)\n",
    "TEXT.build_vocab(train, vectors=GloVe(name='6B', dim=300),max_size=10000,min_freq=10)\n",
    "LABEL.build_vocab(train,)"
   ]
  },
  {
   "cell_type": "code",
   "execution_count": 50,
   "metadata": {
    "ExecuteTime": {
     "end_time": "2019-04-08T01:57:56.908141Z",
     "start_time": "2019-04-08T01:57:56.899845Z"
    }
   },
   "outputs": [
    {
     "name": "stderr",
     "output_type": "stream",
     "text": [
      "The `device` argument should be set by using `torch.device` or passing a string as an argument. This behavior will be deprecated soon and currently defaults to cpu.\n",
      "The `device` argument should be set by using `torch.device` or passing a string as an argument. This behavior will be deprecated soon and currently defaults to cpu.\n"
     ]
    }
   ],
   "source": [
    "train_iter, test_iter = data.BucketIterator.splits((train, test), batch_size=32, device=-1)\n",
    "train_iter.repeat = False\n",
    "test_iter.repeat = False"
   ]
  },
  {
   "cell_type": "code",
   "execution_count": 51,
   "metadata": {
    "ExecuteTime": {
     "end_time": "2019-04-08T01:58:04.012779Z",
     "start_time": "2019-04-08T01:58:04.007062Z"
    }
   },
   "outputs": [],
   "source": [
    "import torch.nn as nn\n",
    "import torch.optim as optim\n",
    "import torch.nn.functional as F\n",
    "from torch.autograd import Variable"
   ]
  },
  {
   "cell_type": "code",
   "execution_count": 52,
   "metadata": {
    "ExecuteTime": {
     "end_time": "2019-04-08T01:58:05.684058Z",
     "start_time": "2019-04-08T01:58:05.661951Z"
    }
   },
   "outputs": [],
   "source": [
    "class IMDBRnn(nn.Module):\n",
    "    \n",
    "    def __init__(self,vocab,hidden_size,n_cat,bs=1,nl=2):\n",
    "        super().__init__()\n",
    "        self.hidden_size = hidden_size\n",
    "        self.bs = bs\n",
    "        self.nl = nl\n",
    "        self.e = nn.Embedding(n_vocab,hidden_size)\n",
    "        self.rnn = nn.LSTM(hidden_size,hidden_size,nl)\n",
    "        self.fc2 = nn.Linear(hidden_size,n_cat)\n",
    "        self.softmax = nn.LogSoftmax(dim=-1)\n",
    "\n",
    "    def forward(self,inp):\n",
    "        bs = inp.size()[1]\n",
    "        if bs != self.bs:\n",
    "            self.bs = bs\n",
    "        e_out = self.e(inp)\n",
    "        h0 = c0 = Variable(e_out.data.new(*(self.nl,self.bs,self.hidden_size)).zero_())\n",
    "        rnn_o,_ = self.rnn(e_out,(h0,c0))\n",
    "        rnn_o = rnn_o[-1]\n",
    "        fc = F.dropout(self.fc2(rnn_o),p=0.8)\n",
    "        return self.softmax(fc)"
   ]
  },
  {
   "cell_type": "code",
   "execution_count": 54,
   "metadata": {
    "ExecuteTime": {
     "end_time": "2019-04-08T01:58:40.124802Z",
     "start_time": "2019-04-08T01:58:40.120971Z"
    }
   },
   "outputs": [],
   "source": [
    "n_vocab = len(TEXT.vocab)\n",
    "n_hidden = 100"
   ]
  },
  {
   "cell_type": "code",
   "execution_count": 56,
   "metadata": {
    "ExecuteTime": {
     "end_time": "2019-04-08T01:59:15.936062Z",
     "start_time": "2019-04-08T01:59:15.883377Z"
    },
    "code_folding": []
   },
   "outputs": [],
   "source": [
    "model = IMDBRnn(n_vocab,n_hidden,3,bs=32)\n",
    "#model = model.cuda()\n",
    "\n",
    "optimizer = optim.Adam(model.parameters(),lr=1e-3)\n",
    "\n",
    "def fit(epoch,model,data_loader,phase='training',volatile=False):\n",
    "    if phase == 'training':\n",
    "        model.train()\n",
    "    if phase == 'validation':\n",
    "        model.eval()\n",
    "        volatile=True\n",
    "    running_loss = 0.0\n",
    "    running_correct = 0\n",
    "    for batch_idx , batch in enumerate(data_loader):\n",
    "        text , target = batch.text , batch.label\n",
    "#         if is_cuda:\n",
    "#             text,target = text.cuda(),target.cuda()\n",
    "        \n",
    "        if phase == 'training':\n",
    "            optimizer.zero_grad()\n",
    "        output = model(text)\n",
    "        loss = F.nll_loss(output,target)\n",
    "        \n",
    "        running_loss += F.nll_loss(output,target,size_average=False).data[0]\n",
    "        preds = output.data.max(dim=1,keepdim=True)[1]\n",
    "        running_correct += preds.eq(target.data.view_as(preds)).cpu().sum()\n",
    "        if phase == 'training':\n",
    "            loss.backward()\n",
    "            optimizer.step()\n",
    "    \n",
    "    loss = running_loss/len(data_loader.dataset)\n",
    "    accuracy = 100. * running_correct/len(data_loader.dataset)\n",
    "    print(\"loss: \", loss, \"accuracy: \", accuracy)\n",
    "    #print(f'{phase} loss is {loss:{5}.{2}} and {phase} accuracy is {running_correct}/{len(data_loader.dataset)}{accuracy:{10}.{4}}')\n",
    "    return loss,accuracy"
   ]
  },
  {
   "cell_type": "code",
   "execution_count": 72,
   "metadata": {
    "ExecuteTime": {
     "end_time": "2019-04-08T02:57:13.167667Z",
     "start_time": "2019-04-08T02:37:19.477563Z"
    }
   },
   "outputs": [
    {
     "name": "stderr",
     "output_type": "stream",
     "text": [
      "/Users/jeffrey/anaconda2/envs/dl/lib/python3.6/site-packages/torch/nn/functional.py:52: UserWarning: size_average and reduce args will be deprecated, please use reduction='sum' instead.\n",
      "  warnings.warn(warning.format(ret))\n",
      "/Users/jeffrey/anaconda2/envs/dl/lib/python3.6/site-packages/ipykernel/__main__.py:24: UserWarning: invalid index of a 0-dim tensor. This will be an error in PyTorch 0.5. Use tensor.item() to convert a 0-dim tensor to a Python number\n"
     ]
    },
    {
     "name": "stdout",
     "output_type": "stream",
     "text": [
      "loss:  tensor(0.2421) accuracy:  tensor(90)\n",
      "loss:  tensor(0.8032) accuracy:  tensor(67)\n",
      "loss:  tensor(0.1540) accuracy:  tensor(94)\n",
      "loss:  tensor(1.0945) accuracy:  tensor(67)\n",
      "loss:  tensor(0.0927) accuracy:  tensor(96)\n",
      "loss:  tensor(1.3375) accuracy:  tensor(67)\n",
      "loss:  tensor(0.0565) accuracy:  tensor(98)\n",
      "loss:  tensor(1.5365) accuracy:  tensor(67)\n",
      "loss:  tensor(0.0473) accuracy:  tensor(98)\n",
      "loss:  tensor(1.8395) accuracy:  tensor(67)\n",
      "loss:  tensor(0.0289) accuracy:  tensor(99)\n",
      "loss:  tensor(1.8005) accuracy:  tensor(66)\n",
      "loss:  tensor(0.0351) accuracy:  tensor(98)\n",
      "loss:  tensor(1.7201) accuracy:  tensor(66)\n",
      "loss:  tensor(0.0264) accuracy:  tensor(99)\n",
      "loss:  tensor(2.0049) accuracy:  tensor(66)\n",
      "loss:  tensor(0.0218) accuracy:  tensor(99)\n",
      "loss:  tensor(2.0042) accuracy:  tensor(66)\n",
      "loss:  tensor(0.0215) accuracy:  tensor(99)\n",
      "loss:  tensor(2.0093) accuracy:  tensor(66)\n",
      "loss:  tensor(0.0192) accuracy:  tensor(99)\n",
      "loss:  tensor(2.0018) accuracy:  tensor(66)\n",
      "loss:  tensor(0.0207) accuracy:  tensor(99)\n",
      "loss:  tensor(2.1968) accuracy:  tensor(67)\n",
      "loss:  tensor(0.0094) accuracy:  tensor(99)\n",
      "loss:  tensor(2.3007) accuracy:  tensor(66)\n",
      "loss:  tensor(0.0163) accuracy:  tensor(99)\n",
      "loss:  tensor(2.1869) accuracy:  tensor(66)\n",
      "loss:  tensor(0.0173) accuracy:  tensor(99)\n",
      "loss:  tensor(2.1374) accuracy:  tensor(66)\n",
      "loss:  tensor(0.0126) accuracy:  tensor(99)\n",
      "loss:  tensor(2.2550) accuracy:  tensor(66)\n",
      "loss:  tensor(0.0108) accuracy:  tensor(99)\n",
      "loss:  tensor(2.3424) accuracy:  tensor(66)\n",
      "loss:  tensor(0.0078) accuracy:  tensor(99)\n",
      "loss:  tensor(2.3293) accuracy:  tensor(66)\n",
      "loss:  tensor(0.0110) accuracy:  tensor(99)\n",
      "loss:  tensor(2.5073) accuracy:  tensor(65)\n",
      "19.894583066304524\n",
      "Execution Time:  19.9 minutes\n"
     ]
    }
   ],
   "source": [
    "import time\n",
    "start = time.time()\n",
    "\n",
    "train_losses , train_accuracy = [],[]\n",
    "val_losses , val_accuracy = [],[]\n",
    "\n",
    "for epoch in range(1,20):\n",
    "\n",
    "    epoch_loss, epoch_accuracy = fit(epoch,model,train_iter,phase='training')\n",
    "    val_epoch_loss , val_epoch_accuracy = fit(epoch,model,test_iter,phase='validation')\n",
    "    train_losses.append(epoch_loss)\n",
    "    train_accuracy.append(epoch_accuracy)\n",
    "    val_losses.append(val_epoch_loss)\n",
    "    val_accuracy.append(val_epoch_accuracy)\n",
    "    \n",
    "end = time.time()\n",
    "print((end-start)/60)\n",
    "print(\"Execution Time: \", round(((end-start)/60),1), \"minutes\")"
   ]
  },
  {
   "cell_type": "code",
   "execution_count": 73,
   "metadata": {
    "ExecuteTime": {
     "end_time": "2019-04-08T02:57:24.089632Z",
     "start_time": "2019-04-08T02:57:23.813694Z"
    }
   },
   "outputs": [
    {
     "data": {
      "text/plain": [
       "<matplotlib.legend.Legend at 0x1a447d4a58>"
      ]
     },
     "execution_count": 73,
     "metadata": {},
     "output_type": "execute_result"
    },
    {
     "data": {
      "image/png": "[encoded data removed]",
      "text/plain": [
       "<Figure size 432x288 with 1 Axes>"
      ]
     },
     "metadata": {},
     "output_type": "display_data"
    }
   ],
   "source": [
    "import matplotlib.pyplot as plt\n",
    "%matplotlib inline\n",
    "\n",
    "plt.plot(range(1,len(train_losses)+1),train_losses,'bo',label = 'training loss')\n",
    "plt.plot(range(1,len(val_losses)+1),val_losses,'r',label = 'validation loss')\n",
    "plt.legend()"
   ]
  },
  {
   "cell_type": "code",
   "execution_count": 74,
   "metadata": {
    "ExecuteTime": {
     "end_time": "2019-04-08T02:57:27.473433Z",
     "start_time": "2019-04-08T02:57:27.170881Z"
    }
   },
   "outputs": [
    {
     "data": {
      "text/plain": [
       "<matplotlib.legend.Legend at 0x1a226cbbe0>"
      ]
     },
     "execution_count": 74,
     "metadata": {},
     "output_type": "execute_result"
    },
    {
     "data": {
      "image/png": "[encoded data removed]",
      "text/plain": [
       "<Figure size 432x288 with 1 Axes>"
      ]
     },
     "metadata": {},
     "output_type": "display_data"
    }
   ],
   "source": [
    "plt.plot(range(1,len(train_accuracy)+1),train_accuracy,'bo',label = 'train accuracy')\n",
    "plt.plot(range(1,len(val_accuracy)+1),val_accuracy,'r',label = 'val accuracy')\n",
    "plt.legend()"
   ]
  },
  {
   "cell_type": "code",
   "execution_count": null,
   "metadata": {},
   "outputs": [],
   "source": []
  }
 ],
 "metadata": {
  "kernelspec": {
   "display_name": "Python [conda env:dl]",
   "language": "python",
   "name": "conda-env-dl-py"
  },
  "language_info": {
   "codemirror_mode": {
    "name": "ipython",
    "version": 3
   },
   "file_extension": ".py",
   "mimetype": "text/x-python",
   "name": "python",
   "nbconvert_exporter": "python",
   "pygments_lexer": "ipython3",
   "version": "3.6.1"
  },
  "toc": {
   "base_numbering": 1,
   "nav_menu": {},
   "number_sections": true,
   "sideBar": true,
   "skip_h1_title": false,
   "title_cell": "Table of Contents",
   "title_sidebar": "Contents",
   "toc_cell": false,
   "toc_position": {},
   "toc_section_display": true,
   "toc_window_display": false
  },
  "varInspector": {
   "cols": {
    "lenName": 16,
    "lenType": 16,
    "lenVar": 40
   },
   "kernels_config": {
    "python": {
     "delete_cmd_postfix": "",
     "delete_cmd_prefix": "del ",
     "library": "var_list.py",
     "varRefreshCmd": "print(var_dic_list())"
    },
    "r": {
     "delete_cmd_postfix": ") ",
     "delete_cmd_prefix": "rm(",
     "library": "var_list.r",
     "varRefreshCmd": "cat(var_dic_list()) "
    }
   },
   "types_to_exclude": [
    "module",
    "function",
    "builtin_function_or_method",
    "instance",
    "_Feature"
   ],
   "window_display": false
  }
 },
 "nbformat": 4,
 "nbformat_minor": 2
}
